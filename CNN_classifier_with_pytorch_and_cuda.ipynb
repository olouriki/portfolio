{
  "nbformat": 4,
  "nbformat_minor": 0,
  "metadata": {
    "colab": {
      "name": "CNN_classifier_with_pytorch_and_cuda.ipynb",
      "provenance": [],
      "collapsed_sections": [],
      "toc_visible": true
    },
    "kernelspec": {
      "name": "python3",
      "display_name": "Python 3"
    },
    "language_info": {
      "name": "python"
    }
  },
  "cells": [
    {
      "cell_type": "code",
      "metadata": {
        "id": "Ixrb9Nrx1-mE"
      },
      "source": [
        "import torch\n",
        "import torch.nn as nn\n",
        "import torchvision.transforms as transforms\n",
        "import torchvision.datasets as datasets"
      ],
      "execution_count": null,
      "outputs": []
    },
    {
      "cell_type": "code",
      "metadata": {
        "colab": {
          "base_uri": "https://localhost:8080/"
        },
        "id": "9c_E5jpBQfuf",
        "outputId": "83f563c2-2aec-40cc-bbcd-ebbd1ac2ccd6"
      },
      "source": [
        "from google.colab import drive\n",
        "drive.mount('/content/drive')"
      ],
      "execution_count": null,
      "outputs": [
        {
          "output_type": "stream",
          "text": [
            "Mounted at /content/drive\n"
          ],
          "name": "stdout"
        }
      ]
    },
    {
      "cell_type": "markdown",
      "metadata": {
        "id": "1eDp-SBKPq7e"
      },
      "source": [
        "# Step 1 : load Dataset"
      ]
    },
    {
      "cell_type": "code",
      "metadata": {
        "id": "PbX3JxpiPqbi"
      },
      "source": [
        "train_dataset = datasets.MNIST(root='./data', \n",
        "                            train=True, \n",
        "                            transform=transforms.ToTensor(),\n",
        "                            download=True)\n",
        "\n",
        "test_dataset = datasets.MNIST(root='./data', \n",
        "                           train=False, \n",
        "                           transform=transforms.ToTensor())"
      ],
      "execution_count": null,
      "outputs": []
    },
    {
      "cell_type": "code",
      "metadata": {
        "colab": {
          "base_uri": "https://localhost:8080/"
        },
        "id": "vBj7Hs6ERlOq",
        "outputId": "d2e26dba-4df4-422e-bee5-b05ec82c8b83"
      },
      "source": [
        "train_dataset"
      ],
      "execution_count": null,
      "outputs": [
        {
          "output_type": "execute_result",
          "data": {
            "text/plain": [
              "Dataset MNIST\n",
              "    Number of datapoints: 60000\n",
              "    Root location: ./data\n",
              "    Split: Train\n",
              "    StandardTransform\n",
              "Transform: ToTensor()"
            ]
          },
          "metadata": {
            "tags": []
          },
          "execution_count": 50
        }
      ]
    },
    {
      "cell_type": "code",
      "metadata": {
        "colab": {
          "base_uri": "https://localhost:8080/"
        },
        "id": "eMgyBTB-RTfZ",
        "outputId": "eb35db7c-c419-43c8-cf9a-a76de877377c"
      },
      "source": [
        "test_dataset"
      ],
      "execution_count": null,
      "outputs": [
        {
          "output_type": "execute_result",
          "data": {
            "text/plain": [
              "Dataset MNIST\n",
              "    Number of datapoints: 10000\n",
              "    Root location: ./data\n",
              "    Split: Test\n",
              "    StandardTransform\n",
              "Transform: ToTensor()"
            ]
          },
          "metadata": {
            "tags": []
          },
          "execution_count": 51
        }
      ]
    },
    {
      "cell_type": "code",
      "metadata": {
        "colab": {
          "base_uri": "https://localhost:8080/",
          "height": 273
        },
        "id": "Worgeu7NroG0",
        "outputId": "e493b026-883f-46f4-b0e1-df44df3a2fb0"
      },
      "source": [
        "from plotly.subplots import make_subplots\n",
        "import plotly.express as px\n",
        "import matplotlib.pyplot as plt\n",
        "\n",
        "train_data = train_dataset.data\n",
        "\n",
        "print(train_data[0].shape)\n",
        "\n",
        "fig, axs = plt.subplots(1, 5)\n",
        "fig.set_size_inches(20,10)\n",
        "for i, pic in enumerate(train_data[0:5]):\n",
        "  axs[i].imshow(pic)\n",
        "  axs[i].set_title(int(train_dataset.targets[i]))"
      ],
      "execution_count": null,
      "outputs": [
        {
          "output_type": "stream",
          "text": [
            "torch.Size([28, 28])\n"
          ],
          "name": "stdout"
        },
        {
          "output_type": "display_data",
          "data": {
            "image/png": "[encoded data removed]",
            "text/plain": [
              "<Figure size 1440x720 with 5 Axes>"
            ]
          },
          "metadata": {
            "tags": [],
            "needs_background": "light"
          }
        }
      ]
    },
    {
      "cell_type": "markdown",
      "metadata": {
        "id": "cGHUpE_0Rt6w"
      },
      "source": [
        "# Step 2 : Making iterable dataset"
      ]
    },
    {
      "cell_type": "code",
      "metadata": {
        "id": "FzKHOSYScvZq",
        "colab": {
          "base_uri": "https://localhost:8080/"
        },
        "outputId": "eb45db28-e13c-43e6-df9f-fe130fc53b00"
      },
      "source": [
        "#batchsize --> nb of examples that goes forward, backward at each iteration\n",
        "#iteration --> batchsize goes forward then backward only once\n",
        "#epoch --> when all the dataset goes through the neural network once.\n",
        "\n",
        "\n",
        "batchsize = 100\n",
        "nb_iter = 1200\n",
        "nb_epochs = int((batchsize*nb_iter)/len(train_dataset))\n",
        "#Iterateur \n",
        "\n",
        "train_loader = torch.utils.data.DataLoader(dataset=train_dataset, batch_size = batchsize, shuffle=True)\n",
        "test_loader = torch.utils.data.DataLoader(dataset=test_dataset, batch_size=batchsize, shuffle=True)\n",
        "\n",
        "print(nb_epochs)"
      ],
      "execution_count": null,
      "outputs": [
        {
          "output_type": "stream",
          "text": [
            "2\n"
          ],
          "name": "stdout"
        }
      ]
    },
    {
      "cell_type": "markdown",
      "metadata": {
        "id": "o2bxWlF-rtWY"
      },
      "source": [
        "# Step 3 : Create the model class\n",
        "\n"
      ]
    },
    {
      "cell_type": "code",
      "metadata": {
        "id": "4FVUx8aNeWHn"
      },
      "source": [
        "class ConvNet(nn.Module):\n",
        " \n",
        "  def __init__(self):\n",
        "    super(ConvNet, self).__init__()\n",
        "\n",
        "    #Convolution 1 + linear rectification\n",
        "    self.cnn1 = nn.Conv2d(in_channels=1, out_channels=16, kernel_size=5, stride=1, padding=0)\n",
        "    self.relu1 = nn.ReLU()\n",
        "\n",
        "    #Max Pool 1\n",
        "    self.maxPool1 = nn.MaxPool2d(kernel_size=2)\n",
        "\n",
        "    #At this stage, one picture is of size 12*12 ((28-5+1)/2)\n",
        "\n",
        "    #Convolution 2 + linear rectification\n",
        "    self.cnn2 = nn.Conv2d(in_channels = 16, out_channels = 32, kernel_size=5, stride=1, padding=0)\n",
        "    self.relu2 = nn.ReLU()\n",
        "\n",
        "    #Max Pool 2\n",
        "    self.maxpool2 = nn.MaxPool2d(kernel_size=2)\n",
        "\n",
        "    #At this stage, one picture is of size 4*4 ((12-5+1)/2)\n",
        "\n",
        "    #fully connected layer. We have 10 as output because 10 possible classes: [0,1,2,3,4,5,6,7,8,9].\n",
        "    self.fully_co = nn.Linear(32 * 4 * 4, 10)\n",
        "\n",
        "\n",
        "  def forward(self, input):\n",
        "\n",
        "    #conv1\n",
        "    output = self.cnn1(input)\n",
        "    output = self.relu1(output)\n",
        "\n",
        "    #max pool1\n",
        "    output = self.maxPool1(output)\n",
        "\n",
        "    #conv2\n",
        "    output = self.cnn2(output)\n",
        "    output = self.relu2(output)\n",
        "    \n",
        "    #max pool2\n",
        "    output = self.maxpool2(output)\n",
        "\n",
        "    #here output is of size (32,4,4)\n",
        "    #flatten our data before passing it to our fully connected layer\n",
        "\n",
        "    output = output.view(output.size(0), -1)\n",
        "    output = self.fully_co(output)\n",
        "\n",
        "    return output"
      ],
      "execution_count": 80,
      "outputs": []
    },
    {
      "cell_type": "markdown",
      "metadata": {
        "id": "hXfm8Wz5-lQj"
      },
      "source": [
        "# Step 4: Instanciate model class"
      ]
    },
    {
      "cell_type": "code",
      "metadata": {
        "colab": {
          "base_uri": "https://localhost:8080/"
        },
        "id": "Xn7lQ0sV9vjq",
        "outputId": "22d8a737-9807-465b-958a-e6d21a9e6c16"
      },
      "source": [
        "print(torch.cuda.device_count())"
      ],
      "execution_count": 81,
      "outputs": [
        {
          "output_type": "stream",
          "text": [
            "0\n"
          ],
          "name": "stdout"
        }
      ]
    },
    {
      "cell_type": "code",
      "metadata": {
        "colab": {
          "base_uri": "https://localhost:8080/"
        },
        "id": "i_Z3QJ6M-NS4",
        "outputId": "6cc094ce-b1a2-4f36-821d-b4a16688fc84"
      },
      "source": [
        "torch.cuda.is_available()"
      ],
      "execution_count": 82,
      "outputs": [
        {
          "output_type": "execute_result",
          "data": {
            "text/plain": [
              "False"
            ]
          },
          "metadata": {
            "tags": []
          },
          "execution_count": 82
        }
      ]
    },
    {
      "cell_type": "code",
      "metadata": {
        "colab": {
          "base_uri": "https://localhost:8080/"
        },
        "id": "7kZrvH2n9zvu",
        "outputId": "b867be8d-43a2-44e3-d6d1-fbf19f0f87ab"
      },
      "source": [
        "model = ConvNet()\n",
        "\n",
        "device = torch.device('cuda:0' if torch.cuda.is_available() else 'cpu')\n",
        "\n",
        "print(device)\n",
        "model.to(device)"
      ],
      "execution_count": 83,
      "outputs": [
        {
          "output_type": "stream",
          "text": [
            "cpu\n"
          ],
          "name": "stdout"
        },
        {
          "output_type": "execute_result",
          "data": {
            "text/plain": [
              "ConvNet(\n",
              "  (cnn1): Conv2d(1, 16, kernel_size=(5, 5), stride=(1, 1))\n",
              "  (relu1): ReLU()\n",
              "  (maxPool1): MaxPool2d(kernel_size=2, stride=2, padding=0, dilation=1, ceil_mode=False)\n",
              "  (cnn2): Conv2d(16, 32, kernel_size=(5, 5), stride=(1, 1))\n",
              "  (relu2): ReLU()\n",
              "  (maxpool2): MaxPool2d(kernel_size=2, stride=2, padding=0, dilation=1, ceil_mode=False)\n",
              "  (fully_co): Linear(in_features=512, out_features=10, bias=True)\n",
              ")"
            ]
          },
          "metadata": {
            "tags": []
          },
          "execution_count": 83
        }
      ]
    },
    {
      "cell_type": "markdown",
      "metadata": {
        "id": "KIfGeuzF-pEU"
      },
      "source": [
        "# Step 5: Instanciate loss class"
      ]
    },
    {
      "cell_type": "code",
      "metadata": {
        "id": "H1CJQbeG-wZG"
      },
      "source": [
        "criterion = torch.nn.CrossEntropyLoss()"
      ],
      "execution_count": 84,
      "outputs": []
    },
    {
      "cell_type": "markdown",
      "metadata": {
        "id": "sUFmkLKS_Av-"
      },
      "source": [
        "#Step 6: Instanciate optimizer ckass"
      ]
    },
    {
      "cell_type": "code",
      "metadata": {
        "id": "q4m5k6AI-wbe"
      },
      "source": [
        "learning_rate = 0.1\n",
        "\n",
        "optim = torch.optim.Adam(params= model.parameters(), lr = learning_rate)"
      ],
      "execution_count": 85,
      "outputs": []
    },
    {
      "cell_type": "markdown",
      "metadata": {
        "id": "px_iYiF9zViG"
      },
      "source": [
        "#Step 7: Train and test the model\n"
      ]
    },
    {
      "cell_type": "code",
      "metadata": {
        "id": "kukfisZi-wdx"
      },
      "source": [
        "def test_model(test_loader, model, device):\n",
        "\n",
        "  correct = 0\n",
        "  total = 0\n",
        "\n",
        "  for images, labels in test_loader:\n",
        "\n",
        "    images = images.to(device)\n",
        "    labels = labels.to(device)\n",
        "\n",
        "    outputs = model(images)\n",
        "\n",
        "    _, predicted = torch.max(outputs, 1)\n",
        "\n",
        "    total += labels.size(0)\n",
        "\n",
        "    correct += (predicted == labels).sum()\n",
        "\n",
        "  accuracy = 100 * float(correct) / float(total)\n",
        "    \n",
        "  return accuracy"
      ],
      "execution_count": 86,
      "outputs": []
    },
    {
      "cell_type": "code",
      "metadata": {
        "colab": {
          "base_uri": "https://localhost:8080/"
        },
        "id": "x5Mh6dbKzUwU",
        "outputId": "a53a5d99-226c-47d5-aede-746f9cd29500"
      },
      "source": [
        "iter = 0\n",
        "for epoch in range(nb_epochs):\n",
        "    for i, (images, labels) in enumerate(train_loader):\n",
        "\n",
        "        # images = images.requires_grad_().to(device)\n",
        "        images = images.to(device)\n",
        "        labels = labels.to(device)\n",
        "\n",
        "        # Clear gradients w.r.t. parameters\n",
        "        optim.zero_grad()\n",
        "\n",
        "        # Forward pass to get output/logits\n",
        "        outputs = model(images)\n",
        "\n",
        "        # Calculate Loss: softmax --> cross entropy loss\n",
        "        criterion = loss(outputs, labels)\n",
        "\n",
        "        # Getting gradients w.r.t. parameters\n",
        "        criterion.backward()\n",
        "\n",
        "        # Updating parameters\n",
        "        optim.step()\n",
        "\n",
        "        iter += 1\n",
        "\n",
        "        if iter % 500 == 0:\n",
        "            # Calculate Accuracy on the test set        \n",
        "            accuracy = test_model(test_loader, model, device)\n",
        "\n",
        "            # Print Loss\n",
        "            print('Iteration: {}. Loss: {}. Accuracy on test set: {}'.format(iter, criterion.item(), accuracy))"
      ],
      "execution_count": 88,
      "outputs": [
        {
          "output_type": "stream",
          "text": [
            "Iteration: 500. Loss: 2.2808356285095215. Accuracy on test set: 9.74\n",
            "Iteration: 1000. Loss: 2.2840118408203125. Accuracy on test set: 11.35\n"
          ],
          "name": "stdout"
        }
      ]
    },
    {
      "cell_type": "code",
      "metadata": {
        "id": "bmWrR48F-wf4"
      },
      "source": [
        ""
      ],
      "execution_count": null,
      "outputs": []
    }
  ]
}