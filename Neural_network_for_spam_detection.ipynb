{
 "cells": [
  {
   "cell_type": "code",
   "execution_count": 25,
   "metadata": {},
   "outputs": [],
   "source": [
    "# The goal of this project is to build a Neural Network that is able to predict if an email is spam.\n",
    "# To do this, I will be using Keras. "
   ]
  },
  {
   "cell_type": "code",
   "execution_count": 26,
   "metadata": {},
   "outputs": [],
   "source": [
    "import numpy as np\n",
    "import pandas as pd \n",
    "\n",
    "import keras\n",
    "\n",
    "import matplotlib\n",
    "import matplotlib.pyplot as plt\n",
    "\n",
    "from keras.preprocessing.text import Tokenizer\n",
    "from keras.preprocessing.sequence import pad_sequences\n",
    "from sklearn.model_selection import train_test_split\n",
    "\n",
    "from keras.models import Sequential\n",
    "from keras.layers import Flatten, Dense, Embedding"
   ]
  },
  {
   "cell_type": "code",
   "execution_count": 27,
   "metadata": {},
   "outputs": [
    {
     "data": {
      "text/html": [
       "<div>\n",
       "<style scoped>\n",
       "    .dataframe tbody tr th:only-of-type {\n",
       "        vertical-align: middle;\n",
       "    }\n",
       "\n",
       "    .dataframe tbody tr th {\n",
       "        vertical-align: top;\n",
       "    }\n",
       "\n",
       "    .dataframe thead th {\n",
       "        text-align: right;\n",
       "    }\n",
       "</style>\n",
       "<table border=\"1\" class=\"dataframe\">\n",
       "  <thead>\n",
       "    <tr style=\"text-align: right;\">\n",
       "      <th></th>\n",
       "      <th>email</th>\n",
       "      <th>label</th>\n",
       "    </tr>\n",
       "  </thead>\n",
       "  <tbody>\n",
       "    <tr>\n",
       "      <td>0</td>\n",
       "      <td>date wed NUMBER aug NUMBER NUMBER NUMBER NUMB...</td>\n",
       "      <td>0</td>\n",
       "    </tr>\n",
       "    <tr>\n",
       "      <td>1</td>\n",
       "      <td>martin a posted tassos papadopoulos the greek ...</td>\n",
       "      <td>0</td>\n",
       "    </tr>\n",
       "    <tr>\n",
       "      <td>2</td>\n",
       "      <td>man threatens explosion in moscow thursday aug...</td>\n",
       "      <td>0</td>\n",
       "    </tr>\n",
       "    <tr>\n",
       "      <td>3</td>\n",
       "      <td>klez the virus that won t die already the most...</td>\n",
       "      <td>0</td>\n",
       "    </tr>\n",
       "    <tr>\n",
       "      <td>4</td>\n",
       "      <td>in adding cream to spaghetti carbonara which ...</td>\n",
       "      <td>0</td>\n",
       "    </tr>\n",
       "    <tr>\n",
       "      <td>5</td>\n",
       "      <td>i just had to jump in here as carbonara is on...</td>\n",
       "      <td>0</td>\n",
       "    </tr>\n",
       "    <tr>\n",
       "      <td>6</td>\n",
       "      <td>the scotsman NUMBER august NUMBER playboy want...</td>\n",
       "      <td>0</td>\n",
       "    </tr>\n",
       "    <tr>\n",
       "      <td>7</td>\n",
       "      <td>martin adamson wrote isn t it just basically a...</td>\n",
       "      <td>0</td>\n",
       "    </tr>\n",
       "    <tr>\n",
       "      <td>8</td>\n",
       "      <td>the scotsman thu NUMBER aug NUMBER meaningful ...</td>\n",
       "      <td>0</td>\n",
       "    </tr>\n",
       "    <tr>\n",
       "      <td>9</td>\n",
       "      <td>i have been trying to research via sa mirrors ...</td>\n",
       "      <td>0</td>\n",
       "    </tr>\n",
       "  </tbody>\n",
       "</table>\n",
       "</div>"
      ],
      "text/plain": [
       "                                               email  label\n",
       "0   date wed NUMBER aug NUMBER NUMBER NUMBER NUMB...      0\n",
       "1  martin a posted tassos papadopoulos the greek ...      0\n",
       "2  man threatens explosion in moscow thursday aug...      0\n",
       "3  klez the virus that won t die already the most...      0\n",
       "4   in adding cream to spaghetti carbonara which ...      0\n",
       "5   i just had to jump in here as carbonara is on...      0\n",
       "6  the scotsman NUMBER august NUMBER playboy want...      0\n",
       "7  martin adamson wrote isn t it just basically a...      0\n",
       "8  the scotsman thu NUMBER aug NUMBER meaningful ...      0\n",
       "9  i have been trying to research via sa mirrors ...      0"
      ]
     },
     "execution_count": 27,
     "metadata": {},
     "output_type": "execute_result"
    }
   ],
   "source": [
    "df_spam = pd.read_csv('C:/Users/louri/OneDrive/Desktop/datasets/spam_or_not.csv')\n",
    "df_spam.head(10)"
   ]
  },
  {
   "cell_type": "code",
   "execution_count": 28,
   "metadata": {
    "scrolled": true
   },
   "outputs": [
    {
     "data": {
      "text/html": [
       "<div>\n",
       "<style scoped>\n",
       "    .dataframe tbody tr th:only-of-type {\n",
       "        vertical-align: middle;\n",
       "    }\n",
       "\n",
       "    .dataframe tbody tr th {\n",
       "        vertical-align: top;\n",
       "    }\n",
       "\n",
       "    .dataframe thead th {\n",
       "        text-align: right;\n",
       "    }\n",
       "</style>\n",
       "<table border=\"1\" class=\"dataframe\">\n",
       "  <thead>\n",
       "    <tr style=\"text-align: right;\">\n",
       "      <th></th>\n",
       "      <th>email</th>\n",
       "      <th>label</th>\n",
       "    </tr>\n",
       "  </thead>\n",
       "  <tbody>\n",
       "    <tr>\n",
       "      <td>count</td>\n",
       "      <td>2999</td>\n",
       "      <td>3000.000000</td>\n",
       "    </tr>\n",
       "    <tr>\n",
       "      <td>unique</td>\n",
       "      <td>2872</td>\n",
       "      <td>NaN</td>\n",
       "    </tr>\n",
       "    <tr>\n",
       "      <td>top</td>\n",
       "      <td>url URL date not supplied URL</td>\n",
       "      <td>NaN</td>\n",
       "    </tr>\n",
       "    <tr>\n",
       "      <td>freq</td>\n",
       "      <td>10</td>\n",
       "      <td>NaN</td>\n",
       "    </tr>\n",
       "    <tr>\n",
       "      <td>mean</td>\n",
       "      <td>NaN</td>\n",
       "      <td>0.166667</td>\n",
       "    </tr>\n",
       "    <tr>\n",
       "      <td>std</td>\n",
       "      <td>NaN</td>\n",
       "      <td>0.372740</td>\n",
       "    </tr>\n",
       "    <tr>\n",
       "      <td>min</td>\n",
       "      <td>NaN</td>\n",
       "      <td>0.000000</td>\n",
       "    </tr>\n",
       "    <tr>\n",
       "      <td>25%</td>\n",
       "      <td>NaN</td>\n",
       "      <td>0.000000</td>\n",
       "    </tr>\n",
       "    <tr>\n",
       "      <td>50%</td>\n",
       "      <td>NaN</td>\n",
       "      <td>0.000000</td>\n",
       "    </tr>\n",
       "    <tr>\n",
       "      <td>75%</td>\n",
       "      <td>NaN</td>\n",
       "      <td>0.000000</td>\n",
       "    </tr>\n",
       "    <tr>\n",
       "      <td>max</td>\n",
       "      <td>NaN</td>\n",
       "      <td>1.000000</td>\n",
       "    </tr>\n",
       "  </tbody>\n",
       "</table>\n",
       "</div>"
      ],
      "text/plain": [
       "                                 email        label\n",
       "count                             2999  3000.000000\n",
       "unique                            2872          NaN\n",
       "top     url URL date not supplied URL           NaN\n",
       "freq                                10          NaN\n",
       "mean                               NaN     0.166667\n",
       "std                                NaN     0.372740\n",
       "min                                NaN     0.000000\n",
       "25%                                NaN     0.000000\n",
       "50%                                NaN     0.000000\n",
       "75%                                NaN     0.000000\n",
       "max                                NaN     1.000000"
      ]
     },
     "execution_count": 28,
     "metadata": {},
     "output_type": "execute_result"
    }
   ],
   "source": [
    "df_spam.describe(include='all')"
   ]
  },
  {
   "cell_type": "code",
   "execution_count": 29,
   "metadata": {},
   "outputs": [
    {
     "name": "stdout",
     "output_type": "stream",
     "text": [
      "<class 'pandas.core.frame.DataFrame'>\n",
      "RangeIndex: 3000 entries, 0 to 2999\n",
      "Data columns (total 2 columns):\n",
      "email    2999 non-null object\n",
      "label    3000 non-null int64\n",
      "dtypes: int64(1), object(1)\n",
      "memory usage: 47.0+ KB\n"
     ]
    }
   ],
   "source": [
    "df_spam.info()"
   ]
  },
  {
   "cell_type": "code",
   "execution_count": 30,
   "metadata": {},
   "outputs": [],
   "source": [
    "# We notice that there is one row where the email cell is empty, let's remove it...\n",
    "\n",
    "df_spam.dropna(inplace=True)"
   ]
  },
  {
   "cell_type": "code",
   "execution_count": 31,
   "metadata": {},
   "outputs": [],
   "source": [
    "# Now, the first step is to prepare our data. To do so, I create a class to vectorize our text corpus which contains all the \n",
    "# emails. Using OOP is not mandatory here but i like using it to make my code better organized and reusable.\n",
    "\n",
    "class tokenizer():\n",
    "    \n",
    "    def __init__(self, df, nb_words, max_len):\n",
    "        self.df = df\n",
    "        self.nb_words = nb_words\n",
    "        # I use nb_words to take only the 1000 most common words\n",
    "        self.max_len = max_len \n",
    "        # I use max_len to fix the dimension of the tensors representing emails\n",
    "        self.tokenizer = Tokenizer(num_words = self.nb_words)\n",
    "        self.word_index = {}\n",
    "        \n",
    "    def get_text_sequences(self, column_name): \n",
    "        \n",
    "        self.word_index = self.tokenizer.fit_on_texts(self.df[column_name])\n",
    "        # fit_on_texts method fill the word index internal dictionary word_index. The lower the word index the more frequent it is\n",
    "        sequences = self.tokenizer.texts_to_sequences(self.df[column_name])\n",
    "        # Then, I create a list containing the sequences of integers for each email. Each integer is the index number of the\n",
    "        # corresponding word from word_index.\n",
    "        padded_sequences = pad_sequences(sequences, maxlen=self.max_len)     \n",
    "        # I pad all the sequences to have the max lenght specified during the initialization\n",
    "        return padded_sequences\n",
    "\n",
    "    def get_tokenizer(self):\n",
    "        return self.tokenizer \n",
    "    \n",
    "    def get_word_index(self):\n",
    "        return self.tokenizer.word_index\n",
    "        "
   ]
  },
  {
   "cell_type": "code",
   "execution_count": 32,
   "metadata": {
    "scrolled": true
   },
   "outputs": [
    {
     "name": "stdout",
     "output_type": "stream",
     "text": [
      "We have 33672 distinct words in our corpus\n"
     ]
    }
   ],
   "source": [
    "y = df_spam.label.copy()\n",
    "\n",
    "tz = tokenizer(df_spam, nb_words=1000, max_len=300)\n",
    "\n",
    "X = tz.get_text_sequences('email')\n",
    "tokenizer = tz.get_tokenizer()\n",
    "word_index = tz.get_word_index()\n",
    "print ('We have', len(word_index), 'distinct words in our corpus')"
   ]
  },
  {
   "cell_type": "code",
   "execution_count": 33,
   "metadata": {
    "scrolled": false
   },
   "outputs": [
    {
     "data": {
      "text/plain": [
       "array([  0,   0,   0,   0,   0,   0,   0,   0,   0,   0,   0,   0,   0,\n",
       "         0,   0,   0,   0,   0,   0,   0,   0,   0,   0,   0,   0,   0,\n",
       "         0,   0,   0,   0,   0,   0,   0,   0,   0,   0,   0,   0,   0,\n",
       "         0,   0,   0,   0,   0,   0,   0,   0,   0,   0,   0,   0,   0,\n",
       "         0,   0,   0,   0,   0,   0,   0,   0,   0,   0,   0,   0,   0,\n",
       "         0,   0,   0,   0,   0,   0,   0,   0,   0,   0,   0,   0,   0,\n",
       "         0,   0,   0,   0,   0,   0,   0,   0,   0,   0,   0,   0,   0,\n",
       "         0,   0,   0,   0,   0,   0,   0,   0,   0,   0,   0,   0,   0,\n",
       "         0,   0,   0,   0,   0,  88, 576,   1, 379,   1,   1,   1,   1,\n",
       "         1,  21, 534,   1, 174,  90, 931,   1,   1, 174,   8,  33,  25,\n",
       "        15, 289,  14,  71,  13,  10, 142,  62, 182,  56, 206,  15,  10,\n",
       "         2, 373,   5,   2, 856,   1,   1,   1, 856,  13, 856,  38, 150,\n",
       "         1,   1, 989,   1,   1,   1, 856,  38, 150,   1,   1, 989,   1,\n",
       "         1,   1,   1, 584,   1,   1,   1,   1,   1,   1,   1, 289,   7,\n",
       "       673,  30,   8, 181,   2, 856, 877,  29, 658, 856,  38, 150,   1,\n",
       "         1, 989,   1, 584,  11,  17, 126,   2,   1, 584, 811,  21,   2,\n",
       "       278,   5,   8,  78, 129,  10, 856, 278, 856,   1,   1,   1,  16,\n",
       "         9,  28, 713,   1,   1,   1,   1,   1,   4,   2, 281,   5,  39,\n",
       "       856,  38, 189,   2, 856, 877, 377,   2, 989, 266, 274,   5,  81,\n",
       "         2,  43,  11,  17,  16,   2, 877, 143,  21,   2, 531,   4,   2,\n",
       "        43,  11, 811,  21,  44,  47,  15,  10, 157, 129,   2, 278,   5,\n",
       "         2, 239, 309,   6, 179, 467,   8, 878,  25,  77, 433,   3,   2,\n",
       "       688, 196, 398, 461,   8, 112, 124, 589,  89,  38, 124, 589,   9,\n",
       "         9])"
      ]
     },
     "execution_count": 33,
     "metadata": {},
     "output_type": "execute_result"
    }
   ],
   "source": [
    "# Here is what the sequence of an email looks like\n",
    "X[0,:]"
   ]
  },
  {
   "cell_type": "code",
   "execution_count": 34,
   "metadata": {
    "scrolled": false
   },
   "outputs": [],
   "source": [
    "# Now, It is time to build, configure and train our model.\n",
    "\n",
    "def split_data(X, y):\n",
    "    X_train, X_test, y_train, y_test = train_test_split(X, y, test_size=0.2, random_state=42, stratify=y)\n",
    "    return X_train, X_test, y_train, y_test   \n",
    "\n",
    "def get_model():\n",
    "    model = Sequential()\n",
    "    model.add(Embedding(len(word_index)+1, 100, input_length=300))\n",
    "    # The Embedding layer transform each word represented by its integer index to a vector of dimension 100. \n",
    "    model.add(Flatten())\n",
    "    # I flatten the input \n",
    "    model.add(Dense(1, activation='sigmoid'))\n",
    "    model.compile(optimizer='adagrad', loss='binary_crossentropy', metrics=['acc'])\n",
    "    # To train my model , I used Adagrad optimizer and binary cross-entropy for the loss function.\n",
    "    return model\n",
    "\n",
    "def check_model(model, X_train, y_train, nb_epochs, batch_size, validation_split):\n",
    "    history = model.fit(X_train, y_train, epochs=nb_epochs, batch_size=batch_size, validation_split=validation_split)\n",
    "    return history"
   ]
  },
  {
   "cell_type": "code",
   "execution_count": 35,
   "metadata": {},
   "outputs": [
    {
     "name": "stderr",
     "output_type": "stream",
     "text": [
      "C:\\Users\\louri\\Anaconda3\\lib\\site-packages\\tensorflow_core\\python\\framework\\indexed_slices.py:424: UserWarning: Converting sparse IndexedSlices to a dense Tensor of unknown shape. This may consume a large amount of memory.\n",
      "  \"Converting sparse IndexedSlices to a dense Tensor of unknown shape. \"\n"
     ]
    },
    {
     "name": "stdout",
     "output_type": "stream",
     "text": [
      "Train on 1919 samples, validate on 480 samples\n",
      "Epoch 1/4\n",
      "1919/1919 [==============================] - 1s 710us/step - loss: 0.2051 - acc: 0.9197 - val_loss: 0.0921 - val_acc: 0.9792\n",
      "Epoch 2/4\n",
      "1919/1919 [==============================] - 1s 590us/step - loss: 0.0514 - acc: 0.9870 - val_loss: 0.0586 - val_acc: 0.9792\n",
      "Epoch 3/4\n",
      "1919/1919 [==============================] - 1s 594us/step - loss: 0.0311 - acc: 0.9896 - val_loss: 0.0455 - val_acc: 0.9854\n",
      "Epoch 4/4\n",
      "1919/1919 [==============================] - 1s 579us/step - loss: 0.0221 - acc: 0.9943 - val_loss: 0.0402 - val_acc: 0.9896\n"
     ]
    }
   ],
   "source": [
    "model = get_model()\n",
    "X_train, X_test, y_train, y_test = split_data(X, y)\n",
    "history = check_model(model, X_train, y_train, 4, 32, 0.2)"
   ]
  },
  {
   "cell_type": "code",
   "execution_count": 37,
   "metadata": {
    "scrolled": true
   },
   "outputs": [
    {
     "data": {
      "image/png": "[encoded data removed]",
      "text/plain": [
       "<Figure size 432x288 with 1 Axes>"
      ]
     },
     "metadata": {
      "needs_background": "light"
     },
     "output_type": "display_data"
    },
    {
     "data": {
      "image/png": "[encoded data removed]",
      "text/plain": [
       "<Figure size 432x288 with 1 Axes>"
      ]
     },
     "metadata": {
      "needs_background": "light"
     },
     "output_type": "display_data"
    }
   ],
   "source": [
    "# Now, I want to visualize how accuracy and loss evolve during the training and validation process..\n",
    "\n",
    "accuracy = history.history['acc']\n",
    "val_accuracy = history.history['val_acc']\n",
    "loss = history.history['loss']\n",
    "val_loss = history.history['val_loss']\n",
    "\n",
    "epochs = range(1, len(accuracy) + 1)\n",
    "\n",
    "plt.plot(epochs, accuracy, 'bo', color='green', label='Training acc')\n",
    "plt.plot(epochs, val_accuracy, 'b', label='Validation acc')\n",
    "plt.title('Training and validation accuracy')\n",
    "plt.legend();\n",
    "plt.show()\n",
    "\n",
    "plt.plot(epochs, loss, 'bo', color='red', label='Training loss')\n",
    "plt.plot(epochs, val_loss, 'b', label='Validation loss')\n",
    "plt.title('Training and validation loss')\n",
    "plt.legend();\n",
    "plt.show()"
   ]
  },
  {
   "cell_type": "code",
   "execution_count": 38,
   "metadata": {},
   "outputs": [
    {
     "name": "stdout",
     "output_type": "stream",
     "text": [
      "600/600 [==============================] - 0s 25us/step\n"
     ]
    },
    {
     "data": {
      "text/plain": [
       "[0.03817262552678585, 0.9850000143051147]"
      ]
     },
     "execution_count": 38,
     "metadata": {},
     "output_type": "execute_result"
    }
   ],
   "source": [
    "model.evaluate(X_test, y_test)\n",
    "# loss value & acc metrics"
   ]
  }
 ],
 "metadata": {
  "kernelspec": {
   "display_name": "Python 3",
   "language": "python",
   "name": "python3"
  },
  "language_info": {
   "codemirror_mode": {
    "name": "ipython",
    "version": 3
   },
   "file_extension": ".py",
   "mimetype": "text/x-python",
   "name": "python",
   "nbconvert_exporter": "python",
   "pygments_lexer": "ipython3",
   "version": "3.7.4"
  }
 },
 "nbformat": 4,
 "nbformat_minor": 2
}
